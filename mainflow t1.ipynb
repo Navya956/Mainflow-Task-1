{
 "cells": [
  {
   "cell_type": "code",
   "execution_count": 31,
   "id": "5e5afa41-e3d3-4f1d-ac36-958bdabd613f",
   "metadata": {},
   "outputs": [],
   "source": [
    "#create a list\n",
    "my_list = [1,2,3,4,5]"
   ]
  },
  {
   "cell_type": "code",
   "execution_count": 33,
   "id": "6cd515f1-5638-4c54-b11e-008cd9b96770",
   "metadata": {},
   "outputs": [
    {
     "name": "stdout",
     "output_type": "stream",
     "text": [
      "List after adding 6: [1, 2, 3, 4, 5, 6]\n"
     ]
    }
   ],
   "source": [
    "#add element to the list\n",
    "my_list.append(6)\n",
    "print(\"List after adding 6:\", my_list)"
   ]
  },
  {
   "cell_type": "code",
   "execution_count": 35,
   "id": "33f19fcb-6420-45fa-97c9-f56db1135e0b",
   "metadata": {},
   "outputs": [
    {
     "name": "stdout",
     "output_type": "stream",
     "text": [
      "List after removing 3: [1, 2, 4, 5, 6]\n"
     ]
    }
   ],
   "source": [
    "#remove element from the list\n",
    "my_list.remove(3)\n",
    "print(\"List after removing 3:\", my_list)"
   ]
  },
  {
   "cell_type": "code",
   "execution_count": 37,
   "id": "97fddd96-6de8-4929-ad2e-73e062bef1df",
   "metadata": {},
   "outputs": [
    {
     "name": "stdout",
     "output_type": "stream",
     "text": [
      "List after modifying the second element: [1, 10, 4, 5, 6]\n"
     ]
    }
   ],
   "source": [
    "#modify an element in the list\n",
    "my_list[1] = 10\n",
    "print(\"List after modifying the second element:\", my_list)"
   ]
  },
  {
   "cell_type": "code",
   "execution_count": 41,
   "id": "cb91673a-56c2-4948-a54f-ab385e22487d",
   "metadata": {},
   "outputs": [],
   "source": [
    "#create dictionary\n",
    "my_dict = {'Name' : 'Xara','Age': '27','City': 'London'}"
   ]
  },
  {
   "cell_type": "code",
   "execution_count": 45,
   "id": "29ddf314-4c23-412d-9188-1ed365d692c7",
   "metadata": {},
   "outputs": [
    {
     "name": "stdout",
     "output_type": "stream",
     "text": [
      "Dictionary after adding country: {'Name': 'Xara', 'Age': '27', 'City': 'London', 'country': 'USA'}\n"
     ]
    }
   ],
   "source": [
    "#add a key value pair to the dictionary\n",
    "my_dict[\"country\"] = 'USA'\n",
    "print(\"Dictionary after adding country:\", my_dict)"
   ]
  },
  {
   "cell_type": "code",
   "execution_count": 47,
   "id": "550a567e-ca81-46f0-8c5f-6cbb826e5501",
   "metadata": {},
   "outputs": [
    {
     "name": "stdout",
     "output_type": "stream",
     "text": [
      "Dictionary after removing Age: {'Name': 'Xara', 'City': 'London', 'country': 'USA'}\n"
     ]
    }
   ],
   "source": [
    "#removing a value pair from dictionary\n",
    "del my_dict ['Age']\n",
    "print(\"Dictionary after removing Age:\", my_dict)"
   ]
  },
  {
   "cell_type": "code",
   "execution_count": 51,
   "id": "1e4a59e0-9bf4-4742-91d9-d8056fcfdf39",
   "metadata": {},
   "outputs": [
    {
     "name": "stdout",
     "output_type": "stream",
     "text": [
      "Dictionary after modifying Name: {'Name': 'Benny', 'City': 'London', 'country': 'USA'}\n"
     ]
    }
   ],
   "source": [
    "#modifying a value in dictionary\n",
    "my_dict['Name'] = 'Benny'\n",
    "print(\"Dictionary after modifying Name:\", my_dict)"
   ]
  },
  {
   "cell_type": "code",
   "execution_count": 53,
   "id": "8e6a9048-5c61-4854-b178-0c6907a4cd37",
   "metadata": {},
   "outputs": [],
   "source": [
    "#create a set\n",
    "my_set = {1,2,3,4,5}"
   ]
  },
  {
   "cell_type": "code",
   "execution_count": 55,
   "id": "b981b40e-dad9-4f66-a99f-3daa48518a38",
   "metadata": {},
   "outputs": [
    {
     "name": "stdout",
     "output_type": "stream",
     "text": [
      "Set after adding 6: {1, 2, 3, 4, 5, 6}\n"
     ]
    }
   ],
   "source": [
    "#add an element to the set\n",
    "my_set.add(6)\n",
    "print(\"Set after adding 6:\",my_set)"
   ]
  },
  {
   "cell_type": "code",
   "execution_count": 57,
   "id": "9692ee49-3579-41fa-93e4-34aa9340af02",
   "metadata": {},
   "outputs": [
    {
     "name": "stdout",
     "output_type": "stream",
     "text": [
      "Set after removing 3: {1, 2, 4, 5, 6}\n"
     ]
    }
   ],
   "source": [
    "#remove element from set\n",
    "my_set.remove(3)\n",
    "print(\"Set after removing 3:\", my_set)"
   ]
  },
  {
   "cell_type": "code",
   "execution_count": 59,
   "id": "7c68849d-b8ce-4c8e-8679-7112fc990bd5",
   "metadata": {},
   "outputs": [
    {
     "name": "stdout",
     "output_type": "stream",
     "text": [
      "Set after adding 3 again: {1, 2, 3, 4, 5, 6}\n"
     ]
    }
   ],
   "source": [
    "#modifying elemnt from set,set dont allow duplicates\n",
    "my_set.add(3)\n",
    "print(\"Set after adding 3 again:\", my_set)\n"
   ]
  }
 ],
 "metadata": {
  "kernelspec": {
   "display_name": "Python 3 (ipykernel)",
   "language": "python",
   "name": "python3"
  },
  "language_info": {
   "codemirror_mode": {
    "name": "ipython",
    "version": 3
   },
   "file_extension": ".py",
   "mimetype": "text/x-python",
   "name": "python",
   "nbconvert_exporter": "python",
   "pygments_lexer": "ipython3",
   "version": "3.12.4"
  }
 },
 "nbformat": 4,
 "nbformat_minor": 5
}
